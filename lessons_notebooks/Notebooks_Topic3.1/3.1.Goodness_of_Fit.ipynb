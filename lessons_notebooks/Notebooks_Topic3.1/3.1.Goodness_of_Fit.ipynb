{
 "cells": [
  {
   "cell_type": "markdown",
   "metadata": {},
   "source": [
    "# Критерии согласия"
   ]
  },
  {
   "cell_type": "markdown",
   "metadata": {},
   "source": [
    "В Python, как и в любых других статистических пакетах, уже реализованы многие критерии, которые мы изучали. Давайте посмотрим, как применять эти критерии на практике."
   ]
  },
  {
   "cell_type": "code",
   "execution_count": 12,
   "metadata": {},
   "outputs": [],
   "source": [
    "# как обычно, начнем с импорта нужных библиотек\n",
    "import numpy as np\n",
    "from scipy import stats\n",
    "from matplotlib import pyplot"
   ]
  },
  {
   "cell_type": "code",
   "execution_count": 13,
   "metadata": {},
   "outputs": [],
   "source": [
    "# и зафиксируем seed\n",
    "np.random.seed(123)"
   ]
  },
  {
   "cell_type": "markdown",
   "metadata": {},
   "source": [
    "## Критерий Колмогорова"
   ]
  },
  {
   "cell_type": "markdown",
   "metadata": {},
   "source": [
    "Начнем с критерия согласия Колмогорова. Этот критерий проверяет простую гипотезу о принадлежности выборки некоторому (непрерывному!) закону распределения. Критерий Колмогорова реализован с помощью функции kstest в модуле stats:\n",
    "\n",
    "* **stats.kstest(sample, cdf)** — тут sample — реализация нашей выборки и cdf — плотность распределения вероятностей.\n",
    "\n",
    "P.S. С помощью этой же функции можно проверить гипотезу однородности (критерий Колмогорова-Смирнова), мы к ней еще вернемся."
   ]
  },
  {
   "cell_type": "code",
   "execution_count": 14,
   "metadata": {},
   "outputs": [],
   "source": [
    "n = 500 # размер выборки"
   ]
  },
  {
   "cell_type": "code",
   "execution_count": 15,
   "metadata": {},
   "outputs": [],
   "source": [
    "sample1 = np.random.rand(n) # выборка 1 из равномерного распределения на [0,1]\n",
    "sample2 = np.random.beta(2,2,size = n) # выборка 2 из бета-распределения с параметрами (2,2)"
   ]
  },
  {
   "cell_type": "code",
   "execution_count": 16,
   "metadata": {},
   "outputs": [
    {
     "data": {
      "image/png": "[encoded data removed]",
      "text/plain": [
       "<Figure size 864x576 with 2 Axes>"
      ]
     },
     "metadata": {
      "needs_background": "light"
     },
     "output_type": "display_data"
    }
   ],
   "source": [
    "# давайте сначала посмотрим на гистограммы для sample1 и sample2\n",
    "\n",
    "pyplot.figure(figsize=(12,8))\n",
    "pyplot.subplot(2,2,1)\n",
    "pyplot.hist(sample1, bins=20)\n",
    "pyplot.subplot(2,2,2)\n",
    "pyplot.hist(sample2, bins=20)\n",
    "pyplot.show()"
   ]
  },
  {
   "cell_type": "code",
   "execution_count": 17,
   "metadata": {},
   "outputs": [
    {
     "data": {
      "text/plain": [
       "KstestResult(statistic=0.02977893867201975, pvalue=0.7670247122317305)"
      ]
     },
     "execution_count": 17,
     "metadata": {},
     "output_type": "execute_result"
    }
   ],
   "source": [
    "# Запускаем критерий Колмогорова для sample1, \n",
    "# проверяем гипотезу о том, что выборка взята из равномерного распределения на [0,1].\n",
    "# Должны получить большой p-value (что будет означать, что значение статистики попало в область вероятных значений).\n",
    "\n",
    "stats.kstest(sample1, stats.uniform.cdf)"
   ]
  },
  {
   "cell_type": "code",
   "execution_count": 18,
   "metadata": {},
   "outputs": [
    {
     "data": {
      "text/plain": [
       "KstestResult(statistic=0.109059197161369, pvalue=1.2372423114520465e-05)"
      ]
     },
     "execution_count": 18,
     "metadata": {},
     "output_type": "execute_result"
    }
   ],
   "source": [
    "# Запускаем критерий Колмогорова для sample2, \n",
    "# проверяем гипотезу о том, что выборка взята из равномерного распределения на [0,1].\n",
    "# Должны получить малый p-value (что будет означать, что значение статистики попало в область маловероятных значений).\n",
    "\n",
    "stats.kstest(sample2, stats.uniform.cdf)"
   ]
  },
  {
   "cell_type": "code",
   "execution_count": 19,
   "metadata": {},
   "outputs": [
    {
     "data": {
      "text/plain": [
       "KstestResult(statistic=0.09860184733194155, pvalue=0.00011034826529907896)"
      ]
     },
     "execution_count": 19,
     "metadata": {},
     "output_type": "execute_result"
    }
   ],
   "source": [
    "# Запускаем критерий Колмогорова для sample1, \n",
    "# проверяем гипотезу о том, что выборка взята из бета-распределения с параметрами (2,2).\n",
    "# Обратите внимание на то, как передавать параметры для функции плотности.\n",
    "\n",
    "stats.kstest(sample1, stats.beta.cdf, args=(2,2))"
   ]
  },
  {
   "cell_type": "code",
   "execution_count": 20,
   "metadata": {},
   "outputs": [
    {
     "data": {
      "text/plain": [
       "KstestResult(statistic=0.023712619065139495, pvalue=0.9412673751712639)"
      ]
     },
     "execution_count": 20,
     "metadata": {},
     "output_type": "execute_result"
    }
   ],
   "source": [
    "# Запускаем критерий Колмогорова для sample2, \n",
    "# проверяем гипотезу о том, что выборка взята из бета-распределения с параметрами (2,2).\n",
    "\n",
    "stats.kstest(sample2, stats.beta.cdf, args=(2,2))"
   ]
  },
  {
   "cell_type": "markdown",
   "metadata": {},
   "source": [
    "## Критерий хи-квадрат"
   ]
  },
  {
   "cell_type": "markdown",
   "metadata": {},
   "source": [
    "Теперь перейдем к критерию согласия хи-квадрат. Этот критерий реализован с помощью функции chisquare в модуле stats:\n",
    "    \n",
    "* **stats.chisquare(obs, exp)** — тут obs — количества попаданий в каждую \"ячейку\" и exp — ожидаемые количества попаданий в каждую \"ячейку\".\n",
    "\n",
    "P.S. Обратите внимание на то, что мы передаем в функцию chisquare не вероятности (эмпирические и истинные), а количества!"
   ]
  },
  {
   "cell_type": "markdown",
   "metadata": {},
   "source": [
    "Вспомним задачу про законы Менделя. Давайте проверим соответствие наблюдаемых значений теоретическим, которые предсказывают законы Менделя. Напомним, что у нас были следующие данные:\n",
    "\n",
    "| Тип семян            | Частота | Вероятность |\n",
    "|:-------------------- |:-------:| -----------:|\n",
    "| Круглые и желтые     | 315/556 | 9/16        |\n",
    "| Морщинистые и желтые | 101/556 | 3/16        |\n",
    "| Круглые и зеленые    | 108/556 | 3/16        |\n",
    "| Морщинистые и зеленые| 32/556  | 1/16        |"
   ]
  },
  {
   "cell_type": "code",
   "execution_count": 21,
   "metadata": {},
   "outputs": [],
   "source": [
    "# занесем данные из таблицы в массивы\n",
    "\n",
    "obs = np.array([315/556, 101/556, 108/556, 32/556])\n",
    "exp = np.array([9/16, 3/16, 3/16, 1/16])"
   ]
  },
  {
   "cell_type": "code",
   "execution_count": 22,
   "metadata": {},
   "outputs": [],
   "source": [
    "# вспомним о том, что в функцию chisquare мы должны передавать количества, а не частоты\n",
    "\n",
    "obs = obs*556\n",
    "exp = exp*556"
   ]
  },
  {
   "cell_type": "code",
   "execution_count": 23,
   "metadata": {},
   "outputs": [
    {
     "data": {
      "text/plain": [
       "Power_divergenceResult(statistic=0.4700239808153487, pvalue=0.9254258951036157)"
      ]
     },
     "execution_count": 23,
     "metadata": {},
     "output_type": "execute_result"
    }
   ],
   "source": [
    "# запускаем критерий хи-квадрат\n",
    "\n",
    "stats.chisquare(obs, exp)"
   ]
  },
  {
   "cell_type": "markdown",
   "metadata": {},
   "source": [
    "## Проверка нормальности"
   ]
  },
  {
   "cell_type": "markdown",
   "metadata": {},
   "source": [
    "Очень важный тип критериев согласия — это проверка нормальности. Давайте рассмотрим применение методов, которые мы рассмотрели на лекции: \n",
    "\n",
    "* **statsmodels.graphics.gofplots.qqplot(sample, line='s')** — построение графика квантилей (Q-Q Plot) — визуальная проверка любого критерия о масштабе/сдвиге (но в случае его применения не для нормального распределения необходимо указать дополнительные аргументы). Аргументы: sample — наша выборка, line='s' — рисует прямую, чтобы было проще визуально сравнивать.\n",
    "* **stats.shapiro(sample)** — критерий Шапиро-Уилка. Аргументы: sample — наша выборка.\n",
    "* **stats.jarque_bera(sample)** — критерий Харке-Бера. Аргументы: sample — наша выборка."
   ]
  },
  {
   "cell_type": "code",
   "execution_count": 24,
   "metadata": {},
   "outputs": [],
   "source": [
    "# давайте поменяем размер выборки, если нужно\n",
    "\n",
    "n = 500"
   ]
  },
  {
   "cell_type": "code",
   "execution_count": 25,
   "metadata": {},
   "outputs": [],
   "source": [
    "sample1 = np.random.normal(0,1, size=n) # выборка из нормального распределения\n",
    "sample2 = np.random.beta(2,2,size = n) # выборка из бета-распределения с параметрами (2,2)"
   ]
  },
  {
   "cell_type": "code",
   "execution_count": 26,
   "metadata": {},
   "outputs": [
    {
     "data": {
      "image/png": "[encoded data removed]",
      "text/plain": [
       "<Figure size 864x576 with 2 Axes>"
      ]
     },
     "metadata": {
      "needs_background": "light"
     },
     "output_type": "display_data"
    }
   ],
   "source": [
    "# нарисуем гистограммы \n",
    "\n",
    "pyplot.figure(figsize=(12,8))\n",
    "pyplot.subplot(2,2,1)\n",
    "pyplot.hist(sample1, bins=20)\n",
    "pyplot.subplot(2,2,2)\n",
    "pyplot.hist(sample2, bins=20)\n",
    "pyplot.show()"
   ]
  },
  {
   "cell_type": "code",
   "execution_count": 27,
   "metadata": {},
   "outputs": [],
   "source": [
    "from statsmodels.graphics.gofplots import qqplot # импортируем функцию qqplot"
   ]
  },
  {
   "cell_type": "code",
   "execution_count": 28,
   "metadata": {},
   "outputs": [
    {
     "data": {
      "image/png": "[encoded data removed]",
      "text/plain": [
       "<Figure size 432x288 with 1 Axes>"
      ]
     },
     "metadata": {
      "needs_background": "light"
     },
     "output_type": "display_data"
    }
   ],
   "source": [
    "# график квантилей для sample1\n",
    "\n",
    "qqplot(sample1, line='s')\n",
    "pyplot.show()"
   ]
  },
  {
   "cell_type": "code",
   "execution_count": 29,
   "metadata": {},
   "outputs": [
    {
     "data": {
      "image/png": "[encoded data removed]",
      "text/plain": [
       "<Figure size 432x288 with 1 Axes>"
      ]
     },
     "metadata": {
      "needs_background": "light"
     },
     "output_type": "display_data"
    }
   ],
   "source": [
    "# график квантилей для sample2\n",
    "\n",
    "qqplot(sample2, line='s')\n",
    "pyplot.show()"
   ]
  },
  {
   "cell_type": "code",
   "execution_count": 30,
   "metadata": {},
   "outputs": [
    {
     "data": {
      "text/plain": [
       "(0.9959385395050049, 0.2265857309103012)"
      ]
     },
     "execution_count": 30,
     "metadata": {},
     "output_type": "execute_result"
    }
   ],
   "source": [
    "# запускаем критерий Шапиро-Уилка для sample1\n",
    "\n",
    "stats.shapiro(sample1)"
   ]
  },
  {
   "cell_type": "code",
   "execution_count": 31,
   "metadata": {},
   "outputs": [
    {
     "data": {
      "text/plain": [
       "(0.9849844574928284, 4.944821193930693e-05)"
      ]
     },
     "execution_count": 31,
     "metadata": {},
     "output_type": "execute_result"
    }
   ],
   "source": [
    "# запускаем критерий Шапиро-Уилка для sample2\n",
    "\n",
    "stats.shapiro(sample2)"
   ]
  },
  {
   "cell_type": "code",
   "execution_count": 32,
   "metadata": {},
   "outputs": [
    {
     "data": {
      "text/plain": [
       "(0.5047526531339085, 0.7769522952554369)"
      ]
     },
     "execution_count": 32,
     "metadata": {},
     "output_type": "execute_result"
    }
   ],
   "source": [
    "# запускаем критерий Харке-Бера для sample1\n",
    "\n",
    "stats.jarque_bera(sample1)"
   ]
  },
  {
   "cell_type": "code",
   "execution_count": 33,
   "metadata": {},
   "outputs": [
    {
     "data": {
      "text/plain": [
       "(13.737779567593636, 0.001039630638919098)"
      ]
     },
     "execution_count": 33,
     "metadata": {},
     "output_type": "execute_result"
    }
   ],
   "source": [
    "# запускаем критерий Харке-Бера для sample2\n",
    "\n",
    "stats.jarque_bera(sample2)"
   ]
  },
  {
   "cell_type": "markdown",
   "metadata": {},
   "source": [
    "## Вместо заключения"
   ]
  },
  {
   "cell_type": "markdown",
   "metadata": {},
   "source": [
    "В статистике известно большое количество критериев согласия и далеко не все из них реализованы в Python. О критериях можно почитать в книге А.И. Кобзарь \"Прикладная математическая статистика. Для инженеров и научных работников\". (Почти) полный список того, что реализовано в Python можно найти в официальной документации: https://docs.scipy.org/doc/scipy/reference/stats.html#module-scipy.stats.\n",
    "\n",
    "Если в официальной документации Вы не найдете нужного критерия, гуглите. Вполне возможно, что критерий, который Вам нужен уже реализован."
   ]
  }
 ],
 "metadata": {
  "kernelspec": {
   "display_name": "Python 3",
   "language": "python",
   "name": "python3"
  },
  "language_info": {
   "codemirror_mode": {
    "name": "ipython",
    "version": 3
   },
   "file_extension": ".py",
   "mimetype": "text/x-python",
   "name": "python",
   "nbconvert_exporter": "python",
   "pygments_lexer": "ipython3",
   "version": "3.7.4"
  }
 },
 "nbformat": 4,
 "nbformat_minor": 2
}

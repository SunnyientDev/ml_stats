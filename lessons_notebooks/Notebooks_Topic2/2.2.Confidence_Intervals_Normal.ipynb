{
 "cells": [
  {
   "cell_type": "markdown",
   "metadata": {},
   "source": [
    "# Доверительные интервалы. Нормальное распределение с неизвестным средним и известной дисперсией"
   ]
  },
  {
   "cell_type": "markdown",
   "metadata": {},
   "source": [
    "**Задача.** Сравнить на выборках размера 50 для $\\mathcal{N}(\\theta,1)$ доверительные интервалы:\n",
    "(1) теоретический, (2) на основе параметрического бутстрэпа, (3) на основе непараметрического бутстрэпа. Сам параметр $\\theta$ сгенерировать из равномерного распределения на $[-5,5]$. "
   ]
  },
  {
   "cell_type": "code",
   "execution_count": null,
   "metadata": {},
   "outputs": [],
   "source": [
    "import numpy as np # для генерации случайных величин и работы с массивами\n",
    "import scipy.stats # чтобы считать квантили"
   ]
  },
  {
   "cell_type": "code",
   "execution_count": null,
   "metadata": {},
   "outputs": [],
   "source": [
    "np.random.seed(123) # фиксируем seed"
   ]
  },
  {
   "cell_type": "code",
   "execution_count": null,
   "metadata": {},
   "outputs": [],
   "source": [
    "# Фиксируем параметры задачи\n",
    "\n",
    "n = 50 # размер выборки \n",
    "alpha = 0.05 # параметр ошибки\n",
    "\n",
    "theta = np.random.uniform(-5,5) # неизвестное среднее нормального распределения\n",
    "sigma = 2 # известная дисперсия нормального распределения"
   ]
  },
  {
   "cell_type": "code",
   "execution_count": null,
   "metadata": {},
   "outputs": [],
   "source": [
    "# Сгенерируем выборку из нужного распределения\n",
    "sample = np.random.normal(theta, sigma, size=n)"
   ]
  },
  {
   "cell_type": "code",
   "execution_count": null,
   "metadata": {},
   "outputs": [],
   "source": [
    "print(\"Значение theta равно\",theta)"
   ]
  },
  {
   "cell_type": "markdown",
   "metadata": {},
   "source": [
    "### Теоретический доверительный интервал"
   ]
  },
  {
   "cell_type": "markdown",
   "metadata": {},
   "source": [
    "Напомним, что теоретический доверительный интервал вычисляется следующим образом: \n",
    "\n",
    "$$\n",
    "\\mathbb{P}\\left( \\bar{X} - \\frac{c_{1-\\alpha/2}\\sigma}{\\sqrt{n}} < \\mu < \\bar{X} + \\frac{c_{1-\\alpha/2}\\sigma}{\\sqrt{n}} \\right) = 1-\\alpha,\n",
    "$$\n",
    "где $c_{\\alpha}$ — квантиль распределения $\\mathcal{N}(0,1)$ уровня $\\alpha$."
   ]
  },
  {
   "cell_type": "code",
   "execution_count": null,
   "metadata": {},
   "outputs": [],
   "source": [
    "# Вычисляем теоретический доверительный интервал\n",
    "CI_Theoretical = [np.mean(sample) - scipy.stats.norm.ppf(1-alpha/2)*sigma/np.sqrt(n), np.mean(sample) + scipy.stats.norm.ppf(1-alpha/2)*sigma/np.sqrt(n)]"
   ]
  },
  {
   "cell_type": "code",
   "execution_count": null,
   "metadata": {},
   "outputs": [],
   "source": [
    "print(\"Теоретический доверительный интервал равен\", CI_Theoretical)"
   ]
  },
  {
   "cell_type": "markdown",
   "metadata": {},
   "source": [
    "### Доверительный интервал на основе (параметрического) бутстрэпа"
   ]
  },
  {
   "cell_type": "code",
   "execution_count": null,
   "metadata": {},
   "outputs": [],
   "source": [
    "# Параметры для бутстрэпа\n",
    "number_of_bootstrap_samples = 20 # количество бутстрэп-выборок\n",
    "size_of_bootstrap_samples = 10 # размер бутстрэп-выборок"
   ]
  },
  {
   "cell_type": "code",
   "execution_count": null,
   "metadata": {},
   "outputs": [],
   "source": [
    "# Оцениваем неизвестный параметр theta \n",
    "sample_mean = np.mean(sample) "
   ]
  },
  {
   "cell_type": "code",
   "execution_count": null,
   "metadata": {},
   "outputs": [],
   "source": [
    "# Генерируем выборку из распределения N(sample_mean, sigma)\n",
    "bootstrap_samples = np.random.normal(sample_mean,sigma,size=[number_of_bootstrap_samples,size_of_bootstrap_samples]) "
   ]
  },
  {
   "cell_type": "code",
   "execution_count": null,
   "metadata": {},
   "outputs": [],
   "source": [
    "# Считаем среднее для каждой выборки \n",
    "bootstrap_estimates = np.apply_along_axis(np.mean, 1, bootstrap_samples)"
   ]
  },
  {
   "cell_type": "code",
   "execution_count": null,
   "metadata": {},
   "outputs": [],
   "source": [
    "# Вычисляем параметрический бутстрэп доверительный интервал\n",
    "CI_Bootstrap_Parametric = [np.quantile(bootstrap_estimates,alpha/2), np.quantile(bootstrap_estimates,1-alpha/2)]"
   ]
  },
  {
   "cell_type": "code",
   "execution_count": null,
   "metadata": {},
   "outputs": [],
   "source": [
    "print(\"Доверительный интервал на основе (парметрического) бустрэпа равен\", CI_Bootstrap_Parametric)"
   ]
  },
  {
   "cell_type": "markdown",
   "metadata": {},
   "source": [
    "### Доверительный интервал на основе (непараметрического) бутстрэпа"
   ]
  },
  {
   "cell_type": "code",
   "execution_count": null,
   "metadata": {},
   "outputs": [],
   "source": [
    "# Будем использовать те же параметры\n",
    "number_of_bootstrap_samples = 20 # количество бутстрэп-выборок\n",
    "size_of_bootstrap_samples = 10 # размер бутстрэп-выборок"
   ]
  },
  {
   "cell_type": "code",
   "execution_count": null,
   "metadata": {},
   "outputs": [],
   "source": [
    "# Генерируем выборку из распределения N(bootstrap_mean, sigma)\n",
    "bootstrap_samples = np.random.choice(sample,size=[number_of_bootstrap_samples,size_of_bootstrap_samples]) "
   ]
  },
  {
   "cell_type": "code",
   "execution_count": null,
   "metadata": {},
   "outputs": [],
   "source": [
    "# Считаем среднее для каждой выборки \n",
    "bootstrap_estimates = np.apply_along_axis(np.mean, 1, bootstrap_samples)"
   ]
  },
  {
   "cell_type": "code",
   "execution_count": null,
   "metadata": {},
   "outputs": [],
   "source": [
    "# Вычисляем непараметрический бутстрэп доверительный интервал\n",
    "CI_Bootstrap_Nonparametric = [np.quantile(bootstrap_estimates,alpha/2), np.quantile(bootstrap_estimates,1-alpha/2)]"
   ]
  },
  {
   "cell_type": "code",
   "execution_count": null,
   "metadata": {},
   "outputs": [],
   "source": [
    "print(\"Доверительный интервал на основе (непарметрического) бустрэпа равен\", CI_Bootstrap_Nonparametric)"
   ]
  },
  {
   "cell_type": "markdown",
   "metadata": {},
   "source": [
    "### Как сравнить полученные доверительные интервалы? "
   ]
  },
  {
   "cell_type": "markdown",
   "metadata": {},
   "source": [
    "Можно попробовать сравнить длину полученных доверительных интервалов. \n",
    "Будет ли длина хорошей оценкой качества интервалов?"
   ]
  },
  {
   "cell_type": "code",
   "execution_count": null,
   "metadata": {},
   "outputs": [],
   "source": [
    "print(\"Длина теоретического доверительного интервала: \", CI_Theoretical[1]-CI_Theoretical[0])\n",
    "print(\"Длина доверительного интервала на основе (парметрического) бустрэпа: \", CI_Bootstrap_Parametric[1]-CI_Bootstrap_Parametric[0])\n",
    "print(\"Длина доверительного интервала на основе (непарметрического) бустрэпа: \", CI_Bootstrap_Nonparametric[1]-CI_Bootstrap_Nonparametric[0])"
   ]
  },
  {
   "cell_type": "markdown",
   "metadata": {},
   "source": [
    "Проверим, с какой частотой истинное значение параметра попадает в данные доверительные интервалы"
   ]
  },
  {
   "cell_type": "code",
   "execution_count": null,
   "metadata": {},
   "outputs": [],
   "source": [
    "N_samples = 10000 # количество \"экспериентов\" по вычислению доверительных интервалов\n",
    "\n",
    "theoretical = np.zeros(N_samples) # здесь будем хранить результаты для теоретического доверительного интервала\n",
    "bootstrap_parametric = np.zeros(N_samples) # здесь будем хранить результаты для параметрического бутстрэпа \n",
    "bootstrap_nonparametric = np.zeros(N_samples) # здесь будем хранить результаты для непараметрического бутстрэпа "
   ]
  },
  {
   "cell_type": "code",
   "execution_count": null,
   "metadata": {},
   "outputs": [],
   "source": [
    "def check_theoretical(sample, theta):\n",
    "    CI_Theoretical = [np.mean(sample) - scipy.stats.norm.ppf(1-alpha/2)*sigma/np.sqrt(np.size(sample)), np.mean(sample) + scipy.stats.norm.ppf(1-alpha/2)*sigma/np.sqrt(np.size(sample))]\n",
    "    return (theta >= CI_Theoretical[0]) and (theta <= CI_Theoretical[1])"
   ]
  },
  {
   "cell_type": "code",
   "execution_count": null,
   "metadata": {},
   "outputs": [],
   "source": [
    "def check_bootstrap_parametric(sample, theta):\n",
    "    bootstrap_samples = np.random.normal(np.mean(sample),sigma,size=[number_of_bootstrap_samples,size_of_bootstrap_samples]) \n",
    "    bootstrap_estimates = np.apply_along_axis(np.mean, 1, bootstrap_samples)\n",
    "    CI_Bootstrap_Parametric = [np.quantile(bootstrap_estimates,alpha/2), np.quantile(bootstrap_estimates,1-alpha/2)]\n",
    "    return (theta >= CI_Bootstrap_Parametric[0]) and (theta <= CI_Bootstrap_Parametric[1])"
   ]
  },
  {
   "cell_type": "code",
   "execution_count": null,
   "metadata": {},
   "outputs": [],
   "source": [
    "def check_bootstrap_nonparametric(sample, theta):\n",
    "    bootstrap_samples = np.random.choice(sample,size=[number_of_bootstrap_samples,size_of_bootstrap_samples]) \n",
    "    bootstrap_estimates = np.apply_along_axis(np.mean, 1, bootstrap_samples)\n",
    "    CI_Bootstrap_Nonparametric = [np.quantile(bootstrap_estimates,alpha/2), np.quantile(bootstrap_estimates,1-alpha/2)]\n",
    "    return (theta >= CI_Bootstrap_Nonparametric[0]) and (theta <= CI_Bootstrap_Nonparametric[1])"
   ]
  },
  {
   "cell_type": "code",
   "execution_count": null,
   "metadata": {},
   "outputs": [],
   "source": [
    "# Проведем N_samples экспериментов\n",
    "for i in range(N_samples):\n",
    "    sample = np.random.normal(theta, sigma, size=n)\n",
    "    theoretical[i] = check_theoretical(sample, theta)\n",
    "    bootstrap_parametric[i] = check_bootstrap_parametric(sample, theta)\n",
    "    bootstrap_nonparametric[i] = check_bootstrap_nonparametric(sample, theta)"
   ]
  },
  {
   "cell_type": "code",
   "execution_count": null,
   "metadata": {},
   "outputs": [],
   "source": [
    "print(\"Частота попадания истинного параметра в доверительный интервал:\")\n",
    "print(\"- для теоретического доверительного интервала \", np.mean(theoretical))\n",
    "print(\"- для параметрического бутстрэп доверительного интервала \", np.mean(bootstrap_parametric))\n",
    "print(\"- для непараметрического бутстрэп доверительного интервала \", np.mean(bootstrap_nonparametric))"
   ]
  },
  {
   "cell_type": "code",
   "execution_count": null,
   "metadata": {},
   "outputs": [],
   "source": []
  }
 ],
 "metadata": {
  "kernelspec": {
   "display_name": "Python 3",
   "language": "python",
   "name": "python3"
  },
  "language_info": {
   "codemirror_mode": {
    "name": "ipython",
    "version": 3
   },
   "file_extension": ".py",
   "mimetype": "text/x-python",
   "name": "python",
   "nbconvert_exporter": "python",
   "pygments_lexer": "ipython3",
   "version": "3.7.4"
  }
 },
 "nbformat": 4,
 "nbformat_minor": 2
}
